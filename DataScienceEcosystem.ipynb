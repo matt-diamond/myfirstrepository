{
 "cells": [
  {
   "cell_type": "markdown",
   "id": "0fe745c9-8ab5-4684-b18c-a6f217a66097",
   "metadata": {},
   "source": [
    "# Data Science Tools and Ecosystem"
   ]
  },
  {
   "cell_type": "markdown",
   "id": "0e71fe2d-5cdc-4176-bb02-39f75c54084e",
   "metadata": {},
   "source": [
    "In this notebook, Data Science Tools and Ecosystem are summarized"
   ]
  },
  {
   "cell_type": "markdown",
   "id": "afce1565-b19a-40f1-9fd6-6123cb363c37",
   "metadata": {},
   "source": [
    "Some of the popular languages that Data Scientists use are;\n",
    "1. Python\n",
    "2. Java\n",
    "3. Scala\n",
    "4. SQL\n",
    "5. Julia"
   ]
  },
  {
   "cell_type": "markdown",
   "id": "f497db16-5052-451a-baa3-587aa8171ac2",
   "metadata": {},
   "source": [
    "Some of the commonly used libraries used by Data Scientists include;\n",
    "1. TensorFlow\n",
    "2. NumPy\n",
    "3. SciPy\n",
    "4. Pandas\n",
    "5. Keras"
   ]
  },
  {
   "cell_type": "markdown",
   "id": "66232e4f-217c-4a57-864b-2b8dbb35604c",
   "metadata": {},
   "source": [
    "| Data Science Tools |\n",
    "|--------------------|\n",
    "| Apache Spark |\n",
    "| TensorFlow |\n",
    "| Apache Hadoop |\n"
   ]
  },
  {
   "cell_type": "markdown",
   "id": "5d6942a8-cf21-4b19-8acc-e15d0f8e9560",
   "metadata": {},
   "source": [
    "### Below are a few examples of evaluating arithmetic expressions in Python"
   ]
  },
  {
   "cell_type": "code",
   "execution_count": 1,
   "id": "cb64b7ee-05fc-4351-8508-f619e9185336",
   "metadata": {
    "tags": []
   },
   "outputs": [
    {
     "data": {
      "text/plain": [
       "17"
      ]
     },
     "execution_count": 1,
     "metadata": {},
     "output_type": "execute_result"
    }
   ],
   "source": [
    "# This is a simple arithmatic expression to mulitply then add integers\n",
    "(3*4)+5"
   ]
  },
  {
   "cell_type": "code",
   "execution_count": 2,
   "id": "c3e59662-0cd5-461f-ac1c-a5c4b95da4bb",
   "metadata": {
    "tags": []
   },
   "outputs": [
    {
     "data": {
      "text/plain": [
       "3.3333333333333335"
      ]
     },
     "execution_count": 2,
     "metadata": {},
     "output_type": "execute_result"
    }
   ],
   "source": [
    "# This will convert 200 minutes to hours by diving by 60\n",
    "200/60"
   ]
  },
  {
   "cell_type": "markdown",
   "id": "d081fe85-9457-43a7-9b70-1cf6c20ec27f",
   "metadata": {},
   "source": [
    "**Objectives;**\n",
    "- List popular languages for Data Science\n",
    "- List commonly used libraries for Data Science\n",
    "- List tools used for Data Science"
   ]
  },
  {
   "cell_type": "markdown",
   "id": "0e45d442-9126-4a22-a965-cf24eba532ed",
   "metadata": {},
   "source": [
    "## Author\n",
    "*Matthew Diamond-Ramos*"
   ]
  }
 ],
 "metadata": {
  "kernelspec": {
   "display_name": "Python",
   "language": "python",
   "name": "conda-env-python-py"
  },
  "language_info": {
   "codemirror_mode": {
    "name": "ipython",
    "version": 3
   },
   "file_extension": ".py",
   "mimetype": "text/x-python",
   "name": "python",
   "nbconvert_exporter": "python",
   "pygments_lexer": "ipython3",
   "version": "3.7.12"
  }
 },
 "nbformat": 4,
 "nbformat_minor": 5
}
